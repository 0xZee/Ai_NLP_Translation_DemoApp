{
  "cells": [
    {
      "cell_type": "markdown",
      "metadata": {
        "id": "7KXp5_PNlpvT"
      },
      "source": [
        "# NLP Demo App for translation\n",
        "- NLP model used : `facebook/nllb-200-distilled-600M`\n",
        "- Task : `translation`\n",
        "- DemoApp : `gradio`\n",
        "\n",
        "`0xZee`"
      ]
    },
    {
      "cell_type": "code",
      "execution_count": 18,
      "metadata": {
        "id": "ICg9ZeBwUpEq"
      },
      "outputs": [],
      "source": [
        "# Dependencies : Transformers, gtts, torch and gradio to render"
      ]
    },
    {
      "cell_type": "code",
      "execution_count": 17,
      "metadata": {
        "id": "E_RN41ZZUod3"
      },
      "outputs": [],
      "source": [
        "! pip install transformers gradio gtts torch"
      ]
    },
    {
      "cell_type": "code",
      "execution_count": 2,
      "metadata": {
        "id": "3KH9UD4JiTr9"
      },
      "outputs": [],
      "source": [
        "import gradio as gr\n",
        "from transformers import pipeline\n",
        "from transformers import AutoTokenizer, AutoModelForSeq2SeqLM\n",
        "import torch"
      ]
    },
    {
      "cell_type": "code",
      "execution_count": null,
      "metadata": {
        "colab": {
          "base_uri": "https://localhost:8080/",
          "height": 592
        },
        "id": "g4e7CmHsVOdQ",
        "outputId": "997cc392-9987-41e8-fc35-356626dc9284"
      },
      "outputs": [
        {
          "output_type": "stream",
          "name": "stdout",
          "text": [
            "Colab notebook detected. This cell will run indefinitely so that you can see errors and logs. To turn off, set debug=False in launch().\n",
            "Running on public URL: https://d154058af08c38c6c0.gradio.live\n",
            "\n",
            "This share link expires in 72 hours. For free permanent hosting and GPU upgrades (NEW!), check out Spaces: https://huggingface.co/spaces\n"
          ]
        },
        {
          "output_type": "display_data",
          "data": {
            "text/plain": [
              "<IPython.core.display.HTML object>"
            ],
            "text/html": [
              "<div><iframe src=\"https://d154058af08c38c6c0.gradio.live\" width=\"100%\" height=\"500\" allow=\"autoplay; camera; microphone; clipboard-read; clipboard-write;\" frameborder=\"0\" allowfullscreen></iframe></div>"
            ]
          },
          "metadata": {}
        }
      ],
      "source": [
        "# languages and model\n",
        "LANGS = [\"eng_Latn\", \"fra_Latn\", \"spa_Latn\"]\n",
        "model_name = \"facebook/nllb-200-distilled-600M\"\n",
        "\n",
        "# model and tokinizer\n",
        "tokenizer = AutoTokenizer.from_pretrained(model_name)\n",
        "model = AutoModelForSeq2SeqLM.from_pretrained(model_name)\n",
        "device = 0 if torch.cuda.is_available() else -1\n",
        "\n",
        "# translate function\n",
        "def translate(input, src_lang, tgt_lang):\n",
        "  translation_pipeline = pipeline(\"translation\", model=model, tokenizer=tokenizer, \n",
        "                                  src_lang=src_lang, tgt_lang=tgt_lang,\n",
        "                                  max_length=400, device=device)\n",
        "  res = translation_pipeline(input)\n",
        "  return res[0]['translation_text']\n",
        "##\n",
        "##\n",
        "with gr.Blocks() as demo:\n",
        "    with gr.Row():\n",
        "      gr.Markdown(\"\"\"\n",
        "                  > 👽 0xZee\n",
        "                  # 📝 NLP : Translation Demo\n",
        "                  > Demo #1 : **facebook/nllb-200-distilled-600M** Model (finetuned) \n",
        "                  *Translation : English, French, Spanish*\n",
        "                  \"\"\")\n",
        "#\n",
        "    with gr.Row():\n",
        "          input = gr.Textbox(label=\"Text to translate\", placeholder=\"Text here\")\n",
        "    with gr.Row(): \n",
        "          src = gr.Dropdown(label=\"Source Language\", choices=LANGS)\n",
        "          tgt = gr.Dropdown(label=\"Target Language\", choices=LANGS)\n",
        "    with gr.Row():\n",
        "          gr.Examples(examples=[[\"Building a better world, with sustainable energies\", \"eng_Latn\", \"spa_Latn\"], [\"Messi es el mejor del mundo, y de lejos\", \"spa_Latn\", \"fra_Latn\"]], inputs=[input, src, tgt])\n",
        "    with gr.Row():\n",
        "          btn = gr.Button(value=\"Go Translate\")  \n",
        "    with gr.Row():      \n",
        "          text_out = gr.Textbox(label=\"Translation\")\n",
        "          btn.click(fn=translate, inputs=[input, src, tgt], outputs=text_out)\n",
        "\n",
        "\n",
        "\n",
        "if __name__ == \"__main__\":\n",
        "  demo.launch(share=True, debug=True)\n",
        "\n"
      ]
    }
  ],
  "metadata": {
    "colab": {
      "provenance": [],
      "authorship_tag": "ABX9TyO8PTduYjlyxR2hSr0/v5Mz"
    },
    "kernelspec": {
      "display_name": "Python 3",
      "name": "python3"
    },
    "language_info": {
      "name": "python"
    }
  },
  "nbformat": 4,
  "nbformat_minor": 0
}